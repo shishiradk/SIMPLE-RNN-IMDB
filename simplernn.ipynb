{
 "cells": [
  {
   "cell_type": "markdown",
   "id": "55e659e7",
   "metadata": {},
   "source": [
    "### End to end Deep Learning Project Using Simple RNN"
   ]
  },
  {
   "cell_type": "markdown",
   "id": "db0f39ea",
   "metadata": {},
   "source": []
  }
 ],
 "metadata": {
  "kernelspec": {
   "display_name": "Python 3",
   "language": "python",
   "name": "python3"
  },
  "language_info": {
   "name": "python",
   "version": "3.12.7"
  }
 },
 "nbformat": 4,
 "nbformat_minor": 5
}
