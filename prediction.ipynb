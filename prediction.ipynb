{
 "cells": [
  {
   "cell_type": "code",
   "execution_count": 10,
   "metadata": {},
   "outputs": [],
   "source": [
    "# Step 1: Import Libraries and Load the Model\n",
    "import numpy as np\n",
    "import tensorflow as tf\n",
    "from tensorflow.keras.datasets import imdb\n",
    "from tensorflow.keras.preprocessing import sequence\n",
    "from tensorflow.keras.models import load_model"
   ]
  },
  {
   "cell_type": "code",
   "execution_count": 11,
   "metadata": {},
   "outputs": [],
   "source": [
    "\n",
    "# Load the IMDB dataset word index\n",
    "word_index = imdb.get_word_index()\n",
    "reverse_word_index = {value: key for key, value in word_index.items()}"
   ]
  },
  {
   "cell_type": "code",
   "execution_count": 12,
   "metadata": {},
   "outputs": [
    {
     "name": "stderr",
     "output_type": "stream",
     "text": [
      "WARNING:absl:Compiled the loaded model, but the compiled metrics have yet to be built. `model.compile_metrics` will be empty until you train or evaluate the model.\n"
     ]
    },
    {
     "data": {
      "text/html": [
       "<pre style=\"white-space:pre;overflow-x:auto;line-height:normal;font-family:Menlo,'DejaVu Sans Mono',consolas,'Courier New',monospace\"><span style=\"font-weight: bold\">Model: \"sequential_4\"</span>\n",
       "</pre>\n"
      ],
      "text/plain": [
       "\u001b[1mModel: \"sequential_4\"\u001b[0m\n"
      ]
     },
     "metadata": {},
     "output_type": "display_data"
    },
    {
     "data": {
      "text/html": [
       "<pre style=\"white-space:pre;overflow-x:auto;line-height:normal;font-family:Menlo,'DejaVu Sans Mono',consolas,'Courier New',monospace\">┏━━━━━━━━━━━━━━━━━━━━━━━━━━━━━━━━━┳━━━━━━━━━━━━━━━━━━━━━━━━┳━━━━━━━━━━━━━━━┓\n",
       "┃<span style=\"font-weight: bold\"> Layer (type)                    </span>┃<span style=\"font-weight: bold\"> Output Shape           </span>┃<span style=\"font-weight: bold\">       Param # </span>┃\n",
       "┡━━━━━━━━━━━━━━━━━━━━━━━━━━━━━━━━━╇━━━━━━━━━━━━━━━━━━━━━━━━╇━━━━━━━━━━━━━━━┩\n",
       "│ embedding_4 (<span style=\"color: #0087ff; text-decoration-color: #0087ff\">Embedding</span>)         │ (<span style=\"color: #00af00; text-decoration-color: #00af00\">32</span>, <span style=\"color: #00af00; text-decoration-color: #00af00\">500</span>, <span style=\"color: #00af00; text-decoration-color: #00af00\">128</span>)         │     <span style=\"color: #00af00; text-decoration-color: #00af00\">1,280,000</span> │\n",
       "├─────────────────────────────────┼────────────────────────┼───────────────┤\n",
       "│ simple_rnn_2 (<span style=\"color: #0087ff; text-decoration-color: #0087ff\">SimpleRNN</span>)        │ (<span style=\"color: #00af00; text-decoration-color: #00af00\">32</span>, <span style=\"color: #00af00; text-decoration-color: #00af00\">128</span>)              │        <span style=\"color: #00af00; text-decoration-color: #00af00\">32,896</span> │\n",
       "├─────────────────────────────────┼────────────────────────┼───────────────┤\n",
       "│ dense_2 (<span style=\"color: #0087ff; text-decoration-color: #0087ff\">Dense</span>)                 │ (<span style=\"color: #00af00; text-decoration-color: #00af00\">32</span>, <span style=\"color: #00af00; text-decoration-color: #00af00\">1</span>)                │           <span style=\"color: #00af00; text-decoration-color: #00af00\">129</span> │\n",
       "└─────────────────────────────────┴────────────────────────┴───────────────┘\n",
       "</pre>\n"
      ],
      "text/plain": [
       "┏━━━━━━━━━━━━━━━━━━━━━━━━━━━━━━━━━┳━━━━━━━━━━━━━━━━━━━━━━━━┳━━━━━━━━━━━━━━━┓\n",
       "┃\u001b[1m \u001b[0m\u001b[1mLayer (type)                   \u001b[0m\u001b[1m \u001b[0m┃\u001b[1m \u001b[0m\u001b[1mOutput Shape          \u001b[0m\u001b[1m \u001b[0m┃\u001b[1m \u001b[0m\u001b[1m      Param #\u001b[0m\u001b[1m \u001b[0m┃\n",
       "┡━━━━━━━━━━━━━━━━━━━━━━━━━━━━━━━━━╇━━━━━━━━━━━━━━━━━━━━━━━━╇━━━━━━━━━━━━━━━┩\n",
       "│ embedding_4 (\u001b[38;5;33mEmbedding\u001b[0m)         │ (\u001b[38;5;34m32\u001b[0m, \u001b[38;5;34m500\u001b[0m, \u001b[38;5;34m128\u001b[0m)         │     \u001b[38;5;34m1,280,000\u001b[0m │\n",
       "├─────────────────────────────────┼────────────────────────┼───────────────┤\n",
       "│ simple_rnn_2 (\u001b[38;5;33mSimpleRNN\u001b[0m)        │ (\u001b[38;5;34m32\u001b[0m, \u001b[38;5;34m128\u001b[0m)              │        \u001b[38;5;34m32,896\u001b[0m │\n",
       "├─────────────────────────────────┼────────────────────────┼───────────────┤\n",
       "│ dense_2 (\u001b[38;5;33mDense\u001b[0m)                 │ (\u001b[38;5;34m32\u001b[0m, \u001b[38;5;34m1\u001b[0m)                │           \u001b[38;5;34m129\u001b[0m │\n",
       "└─────────────────────────────────┴────────────────────────┴───────────────┘\n"
      ]
     },
     "metadata": {},
     "output_type": "display_data"
    },
    {
     "data": {
      "text/html": [
       "<pre style=\"white-space:pre;overflow-x:auto;line-height:normal;font-family:Menlo,'DejaVu Sans Mono',consolas,'Courier New',monospace\"><span style=\"font-weight: bold\"> Total params: </span><span style=\"color: #00af00; text-decoration-color: #00af00\">1,313,027</span> (5.01 MB)\n",
       "</pre>\n"
      ],
      "text/plain": [
       "\u001b[1m Total params: \u001b[0m\u001b[38;5;34m1,313,027\u001b[0m (5.01 MB)\n"
      ]
     },
     "metadata": {},
     "output_type": "display_data"
    },
    {
     "data": {
      "text/html": [
       "<pre style=\"white-space:pre;overflow-x:auto;line-height:normal;font-family:Menlo,'DejaVu Sans Mono',consolas,'Courier New',monospace\"><span style=\"font-weight: bold\"> Trainable params: </span><span style=\"color: #00af00; text-decoration-color: #00af00\">1,313,025</span> (5.01 MB)\n",
       "</pre>\n"
      ],
      "text/plain": [
       "\u001b[1m Trainable params: \u001b[0m\u001b[38;5;34m1,313,025\u001b[0m (5.01 MB)\n"
      ]
     },
     "metadata": {},
     "output_type": "display_data"
    },
    {
     "data": {
      "text/html": [
       "<pre style=\"white-space:pre;overflow-x:auto;line-height:normal;font-family:Menlo,'DejaVu Sans Mono',consolas,'Courier New',monospace\"><span style=\"font-weight: bold\"> Non-trainable params: </span><span style=\"color: #00af00; text-decoration-color: #00af00\">0</span> (0.00 B)\n",
       "</pre>\n"
      ],
      "text/plain": [
       "\u001b[1m Non-trainable params: \u001b[0m\u001b[38;5;34m0\u001b[0m (0.00 B)\n"
      ]
     },
     "metadata": {},
     "output_type": "display_data"
    },
    {
     "data": {
      "text/html": [
       "<pre style=\"white-space:pre;overflow-x:auto;line-height:normal;font-family:Menlo,'DejaVu Sans Mono',consolas,'Courier New',monospace\"><span style=\"font-weight: bold\"> Optimizer params: </span><span style=\"color: #00af00; text-decoration-color: #00af00\">2</span> (12.00 B)\n",
       "</pre>\n"
      ],
      "text/plain": [
       "\u001b[1m Optimizer params: \u001b[0m\u001b[38;5;34m2\u001b[0m (12.00 B)\n"
      ]
     },
     "metadata": {},
     "output_type": "display_data"
    }
   ],
   "source": [
    "# Load the pre-trained model with ReLU activation\n",
    "model = load_model('simple_rnn_imdb.h5')\n",
    "model.summary()"
   ]
  },
  {
   "cell_type": "code",
   "execution_count": 13,
   "metadata": {},
   "outputs": [
    {
     "data": {
      "text/plain": [
       "[array([[-6.64169192e-01, -5.77504396e-01,  5.87998867e-01, ...,\n",
       "         -4.67274100e-01, -7.27037132e-01,  2.15147287e-01],\n",
       "        [-3.19496132e-02, -4.86751989e-04, -4.46077995e-02, ...,\n",
       "         -2.48559322e-02, -2.39949338e-02, -2.97903009e-02],\n",
       "        [-3.61516178e-02, -4.09822352e-02, -1.37603807e-03, ...,\n",
       "         -4.78854291e-02, -9.38448962e-03, -8.27623680e-02],\n",
       "        ...,\n",
       "        [-5.45275919e-02,  6.36189878e-02, -1.02132699e-02, ...,\n",
       "          7.62990266e-02,  5.40123135e-02, -4.87068780e-02],\n",
       "        [-5.48083056e-03, -8.46788511e-02,  8.71329233e-02, ...,\n",
       "         -8.00006650e-03, -6.36225343e-02,  9.63816121e-02],\n",
       "        [ 1.07632324e-01,  1.12681426e-01, -1.16618924e-01, ...,\n",
       "          9.62461010e-02,  1.11080982e-01, -1.72136314e-02]], dtype=float32),\n",
       " array([[ 4.1353689e-03, -9.4766714e-02,  1.7952654e-01, ...,\n",
       "          2.0567355e-01,  1.8752261e-01, -4.5598716e-02],\n",
       "        [-1.0545128e-01, -1.1549280e-01,  1.4422326e-01, ...,\n",
       "          1.4792924e-01, -8.6878411e-02, -9.4892792e-02],\n",
       "        [-3.8430192e-02, -1.2702429e-01, -2.5865478e-02, ...,\n",
       "          5.3650074e-02, -1.2615697e-01,  7.1226902e-02],\n",
       "        ...,\n",
       "        [ 8.4592313e-02, -9.9261917e-02, -9.5838115e-02, ...,\n",
       "          1.4453943e-01,  7.4921943e-02,  4.9580354e-02],\n",
       "        [-1.9202057e-02, -2.5128728e-02, -1.1898924e-04, ...,\n",
       "          1.7188989e-01,  1.0139512e-02, -4.8149504e-02],\n",
       "        [ 4.2053100e-02, -4.2786971e-02, -1.0299903e-01, ...,\n",
       "          1.0228010e-01, -1.3226254e-01,  2.6645703e-02]], dtype=float32),\n",
       " array([[-0.1200825 , -0.05912145, -0.14032467, ..., -0.05688776,\n",
       "         -0.08964113,  0.00360502],\n",
       "        [-0.20333089,  0.06284971, -0.19892474, ..., -0.00357848,\n",
       "          0.09893635, -0.09083202],\n",
       "        [-0.0249552 ,  0.05981439, -0.01785664, ...,  0.01114217,\n",
       "         -0.05413109,  0.18721798],\n",
       "        ...,\n",
       "        [ 0.17496097, -0.2599787 , -0.04836312, ...,  0.20196846,\n",
       "         -0.13519509,  0.07577392],\n",
       "        [ 0.02905932, -0.04413639, -0.0946686 , ..., -0.10617989,\n",
       "          0.00133555,  0.07475594],\n",
       "        [ 0.00991741, -0.05181919,  0.01409441, ...,  0.02734798,\n",
       "         -0.0434815 ,  0.02193831]], dtype=float32),\n",
       " array([-0.02526595,  0.01576198, -0.00455082, -0.03710989, -0.05762823,\n",
       "         0.04790857, -0.01383094,  0.03502702,  0.0141115 , -0.01086164,\n",
       "        -0.0099271 ,  0.01209232, -0.04861571, -0.02160324,  0.03054577,\n",
       "        -0.02923172,  0.00986204,  0.00652571, -0.02880141, -0.05419563,\n",
       "         0.00303528, -0.02730704, -0.00175394,  0.00061336, -0.0403285 ,\n",
       "         0.09556653, -0.0243369 ,  0.02301552, -0.0131885 , -0.00021432,\n",
       "        -0.04660057,  0.03943941, -0.02683072, -0.04434548, -0.00475637,\n",
       "        -0.01103819, -0.02491373,  0.00609979, -0.00804309,  0.03273087,\n",
       "        -0.03102378, -0.01148283,  0.02234377,  0.02921994, -0.03433378,\n",
       "        -0.05084942, -0.04212053,  0.0146287 ,  0.00600975,  0.00886499,\n",
       "         0.03606018, -0.05167159, -0.02303595,  0.01418843,  0.0095521 ,\n",
       "        -0.05702605, -0.00659562, -0.02136056, -0.03779411,  0.0435196 ,\n",
       "        -0.0277009 , -0.01253745, -0.01541749, -0.02934053, -0.01551017,\n",
       "         0.0090983 , -0.03203982, -0.01055257,  0.00792015, -0.06164861,\n",
       "         0.01570062, -0.03827599, -0.07026052,  0.01735004, -0.03284805,\n",
       "         0.02389499,  0.02788711,  0.01814619,  0.03221182, -0.03932348,\n",
       "         0.02977357,  0.00824691, -0.02364854,  0.0675731 , -0.04189974,\n",
       "        -0.04773983, -0.0425677 ,  0.01593686,  0.00678785, -0.06710894,\n",
       "        -0.04770973,  0.00099126,  0.02333671, -0.01192576,  0.00219854,\n",
       "        -0.05073973,  0.01655767, -0.01264781,  0.00861901, -0.0548511 ,\n",
       "        -0.03769409,  0.00508765, -0.01071222, -0.04045634, -0.06935799,\n",
       "         0.02043742, -0.00264619,  0.03719889, -0.01333663,  0.00275717,\n",
       "        -0.02413915,  0.00088338, -0.03124204,  0.02307071,  0.01638602,\n",
       "        -0.03133561,  0.01688252,  0.0110127 , -0.04715874,  0.01384145,\n",
       "         0.0090424 , -0.03676285,  0.00812511, -0.00526895, -0.0254571 ,\n",
       "         0.00959685, -0.04588919, -0.00246964], dtype=float32),\n",
       " array([[ 0.17522271],\n",
       "        [-0.05986622],\n",
       "        [ 0.00821766],\n",
       "        [-0.09778258],\n",
       "        [-0.16517527],\n",
       "        [-0.17929968],\n",
       "        [ 0.08512241],\n",
       "        [ 0.0583327 ],\n",
       "        [ 0.18366137],\n",
       "        [-0.5839736 ],\n",
       "        [ 0.17884383],\n",
       "        [-0.13051717],\n",
       "        [-0.11421946],\n",
       "        [ 0.15533279],\n",
       "        [-0.19233724],\n",
       "        [ 0.05863632],\n",
       "        [-0.11466932],\n",
       "        [ 0.12876175],\n",
       "        [-0.15408921],\n",
       "        [-0.03368384],\n",
       "        [-0.2803983 ],\n",
       "        [-0.28590494],\n",
       "        [ 0.08921916],\n",
       "        [ 0.10555473],\n",
       "        [ 0.01294161],\n",
       "        [ 0.02824673],\n",
       "        [-0.19010766],\n",
       "        [-0.17335033],\n",
       "        [ 0.08193491],\n",
       "        [ 0.23272017],\n",
       "        [-0.17254148],\n",
       "        [-0.1280064 ],\n",
       "        [ 0.00570142],\n",
       "        [ 0.09935416],\n",
       "        [-0.14323352],\n",
       "        [ 0.08001181],\n",
       "        [-0.19278932],\n",
       "        [-0.08097792],\n",
       "        [-0.2557362 ],\n",
       "        [ 0.02691779],\n",
       "        [-0.2378591 ],\n",
       "        [ 0.1973444 ],\n",
       "        [ 0.04844378],\n",
       "        [ 0.01935236],\n",
       "        [ 0.10881765],\n",
       "        [ 0.09135578],\n",
       "        [ 0.20065638],\n",
       "        [-0.18663417],\n",
       "        [-0.26335835],\n",
       "        [ 0.06130368],\n",
       "        [ 0.01108638],\n",
       "        [-0.20679265],\n",
       "        [ 0.10446573],\n",
       "        [ 0.10469222],\n",
       "        [-0.0378498 ],\n",
       "        [ 0.18059923],\n",
       "        [-0.22179413],\n",
       "        [-0.15433124],\n",
       "        [-0.07901038],\n",
       "        [ 0.26317805],\n",
       "        [-0.1243681 ],\n",
       "        [ 0.00401186],\n",
       "        [ 0.10872996],\n",
       "        [ 0.36636883],\n",
       "        [-0.25520363],\n",
       "        [-0.1588528 ],\n",
       "        [ 0.00336886],\n",
       "        [-0.19922991],\n",
       "        [-0.391688  ],\n",
       "        [ 0.0282808 ],\n",
       "        [-0.25916377],\n",
       "        [-0.12903287],\n",
       "        [-0.10498352],\n",
       "        [-0.07085796],\n",
       "        [-0.07393163],\n",
       "        [ 0.13441996],\n",
       "        [-0.12540154],\n",
       "        [-0.21273047],\n",
       "        [ 0.08384538],\n",
       "        [ 0.0039587 ],\n",
       "        [ 0.07289965],\n",
       "        [-0.01321843],\n",
       "        [-0.11094432],\n",
       "        [ 0.07054451],\n",
       "        [-0.11627828],\n",
       "        [-0.15497302],\n",
       "        [-0.16776475],\n",
       "        [-0.25529006],\n",
       "        [-0.13484834],\n",
       "        [ 0.02636901],\n",
       "        [ 0.09154589],\n",
       "        [ 0.33102363],\n",
       "        [ 0.02702149],\n",
       "        [ 0.12484368],\n",
       "        [-0.11130251],\n",
       "        [-0.49002603],\n",
       "        [-0.07731774],\n",
       "        [ 0.09018729],\n",
       "        [ 0.09282079],\n",
       "        [-0.23988989],\n",
       "        [-0.06057049],\n",
       "        [ 0.00707729],\n",
       "        [-0.80900514],\n",
       "        [-0.14459668],\n",
       "        [-0.0084187 ],\n",
       "        [ 0.07803663],\n",
       "        [-0.09103868],\n",
       "        [ 0.14767723],\n",
       "        [ 0.01642027],\n",
       "        [ 0.03325066],\n",
       "        [-0.28237742],\n",
       "        [-0.16697548],\n",
       "        [ 0.07029379],\n",
       "        [-0.23508184],\n",
       "        [ 0.01232916],\n",
       "        [ 0.5104371 ],\n",
       "        [ 0.1829801 ],\n",
       "        [-0.16151634],\n",
       "        [-0.1726358 ],\n",
       "        [-0.22579682],\n",
       "        [-0.16836761],\n",
       "        [ 0.07774936],\n",
       "        [ 0.20253809],\n",
       "        [-0.29547396],\n",
       "        [ 0.1799639 ],\n",
       "        [ 0.04284341],\n",
       "        [-0.1760852 ],\n",
       "        [ 0.78189456]], dtype=float32),\n",
       " array([-0.40493327], dtype=float32)]"
      ]
     },
     "execution_count": 13,
     "metadata": {},
     "output_type": "execute_result"
    }
   ],
   "source": [
    "model.get_weights()"
   ]
  },
  {
   "cell_type": "code",
   "execution_count": 14,
   "metadata": {},
   "outputs": [],
   "source": [
    "# Step 2: Helper Functions\n",
    "# Function to decode reviews\n",
    "def decode_review(encoded_review):\n",
    "    return ' '.join([reverse_word_index.get(i - 3, '?') for i in encoded_review])\n",
    "\n",
    "# Function to preprocess user input\n",
    "def preprocess_text(text):\n",
    "    words = text.lower().split()\n",
    "    encoded_review = [word_index.get(word, 2) + 3 for word in words]\n",
    "    padded_review = sequence.pad_sequences([encoded_review], maxlen=500)\n",
    "    return padded_review"
   ]
  },
  {
   "cell_type": "code",
   "execution_count": 15,
   "metadata": {},
   "outputs": [],
   "source": [
    "### Prediction  function\n",
    "\n",
    "def predict_sentiment(review):\n",
    "    preprocessed_input=preprocess_text(review)\n",
    "\n",
    "    prediction=model.predict(preprocessed_input)\n",
    "\n",
    "    sentiment = 'Positive' if prediction[0][0] > 0.5 else 'Negative'\n",
    "    \n",
    "    return sentiment, prediction[0][0]\n",
    "\n"
   ]
  },
  {
   "cell_type": "code",
   "execution_count": 16,
   "metadata": {},
   "outputs": [
    {
     "name": "stdout",
     "output_type": "stream",
     "text": [
      "\u001b[1m1/1\u001b[0m \u001b[32m━━━━━━━━━━━━━━━━━━━━\u001b[0m\u001b[37m\u001b[0m \u001b[1m0s\u001b[0m 128ms/step\n",
      "Review: This movie was fantastic! The acting was great and the plot was thrilling.\n",
      "Sentiment: Negative\n",
      "Prediction Score: 0.001243343111127615\n"
     ]
    }
   ],
   "source": [
    "# Step 4: User Input and Prediction\n",
    "# Example review for prediction\n",
    "example_review = \"This movie was fantastic! The acting was great and the plot was thrilling.\"\n",
    "\n",
    "sentiment,score=predict_sentiment(example_review)\n",
    "\n",
    "print(f'Review: {example_review}')\n",
    "print(f'Sentiment: {sentiment}')\n",
    "print(f'Prediction Score: {score}')"
   ]
  },
  {
   "cell_type": "code",
   "execution_count": null,
   "metadata": {},
   "outputs": [],
   "source": []
  },
  {
   "cell_type": "code",
   "execution_count": null,
   "metadata": {},
   "outputs": [],
   "source": []
  },
  {
   "cell_type": "code",
   "execution_count": null,
   "metadata": {},
   "outputs": [],
   "source": []
  },
  {
   "cell_type": "code",
   "execution_count": null,
   "metadata": {},
   "outputs": [],
   "source": []
  },
  {
   "cell_type": "code",
   "execution_count": null,
   "metadata": {},
   "outputs": [],
   "source": []
  }
 ],
 "metadata": {
  "kernelspec": {
   "display_name": "Python 3",
   "language": "python",
   "name": "python3"
  },
  "language_info": {
   "codemirror_mode": {
    "name": "ipython",
    "version": 3
   },
   "file_extension": ".py",
   "mimetype": "text/x-python",
   "name": "python",
   "nbconvert_exporter": "python",
   "pygments_lexer": "ipython3",
   "version": "3.11.0"
  }
 },
 "nbformat": 4,
 "nbformat_minor": 2
}
